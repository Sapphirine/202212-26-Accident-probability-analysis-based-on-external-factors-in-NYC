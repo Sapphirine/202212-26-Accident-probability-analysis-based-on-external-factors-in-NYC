{
 "cells": [
  {
   "cell_type": "code",
   "execution_count": 1,
   "metadata": {
    "id": "6hKq-n7G62-2"
   },
   "outputs": [],
   "source": [
    "from pyspark.sql import SparkSession\n",
    "from pyspark.sql.functions import col, when, concat_ws, to_timestamp, date_format, size, split\n",
    "import matplotlib.pyplot as plt\n",
    "%matplotlib inline\n",
    "import numpy as np"
   ]
  },
  {
   "cell_type": "code",
   "execution_count": 2,
   "metadata": {},
   "outputs": [
    {
     "name": "stderr",
     "output_type": "stream",
     "text": [
      "Setting default log level to \"WARN\".\n",
      "To adjust logging level use sc.setLogLevel(newLevel). For SparkR, use setLogLevel(newLevel).\n",
      "22/12/01 22:09:47 INFO org.apache.spark.SparkEnv: Registering MapOutputTracker\n",
      "22/12/01 22:09:47 INFO org.apache.spark.SparkEnv: Registering BlockManagerMaster\n",
      "22/12/01 22:09:47 INFO org.apache.spark.SparkEnv: Registering BlockManagerMasterHeartbeat\n",
      "22/12/01 22:09:47 INFO org.apache.spark.SparkEnv: Registering OutputCommitCoordinator\n",
      "22/12/01 22:10:19 WARN org.apache.spark.sql.catalyst.util.package: Truncated the string representation of a plan since it was too large. This behavior can be adjusted by setting 'spark.sql.debug.maxToStringFields'.\n"
     ]
    },
    {
     "name": "stdout",
     "output_type": "stream",
     "text": [
      "+----------+----------+-------+--------+--------+---------+--------+--------------------+-----------------+---------------+-------------------------+------------------------+-----------------------------+----------------------------+-------------------------+------------------------+--------------------------+-------------------------+-----------------------------+-----------------------------+-----------------------------+-----------------------------+-----------------------------+------------+-------------------+-------------------+-------------------+-------------------+-------------------+\n",
      "|CRASH DATE|CRASH TIME|BOROUGH|ZIP CODE|LATITUDE|LONGITUDE|LOCATION|      ON STREET NAME|CROSS STREET NAME|OFF STREET NAME|NUMBER OF PERSONS INJURED|NUMBER OF PERSONS KILLED|NUMBER OF PEDESTRIANS INJURED|NUMBER OF PEDESTRIANS KILLED|NUMBER OF CYCLIST INJURED|NUMBER OF CYCLIST KILLED|NUMBER OF MOTORIST INJURED|NUMBER OF MOTORIST KILLED|CONTRIBUTING FACTOR VEHICLE 1|CONTRIBUTING FACTOR VEHICLE 2|CONTRIBUTING FACTOR VEHICLE 3|CONTRIBUTING FACTOR VEHICLE 4|CONTRIBUTING FACTOR VEHICLE 5|COLLISION_ID|VEHICLE TYPE CODE 1|VEHICLE TYPE CODE 2|VEHICLE TYPE CODE 3|VEHICLE TYPE CODE 4|VEHICLE TYPE CODE 5|\n",
      "+----------+----------+-------+--------+--------+---------+--------+--------------------+-----------------+---------------+-------------------------+------------------------+-----------------------------+----------------------------+-------------------------+------------------------+--------------------------+-------------------------+-----------------------------+-----------------------------+-----------------------------+-----------------------------+-----------------------------+------------+-------------------+-------------------+-------------------+-------------------+-------------------+\n",
      "|09/11/2021|      2:39|   null|    null|    null|     null|    null|WHITESTONE EXPRES...|        20 AVENUE|           null|                        2|                       0|                            0|                           0|                        0|                       0|                         2|                        0|         Aggressive Drivin...|                  Unspecified|                         null|                         null|                         null|     4455765|              Sedan|              Sedan|               null|               null|               null|\n",
      "+----------+----------+-------+--------+--------+---------+--------+--------------------+-----------------+---------------+-------------------------+------------------------+-----------------------------+----------------------------+-------------------------+------------------------+--------------------------+-------------------------+-----------------------------+-----------------------------+-----------------------------+-----------------------------+-----------------------------+------------+-------------------+-------------------+-------------------+-------------------+-------------------+\n",
      "only showing top 1 row\n",
      "\n"
     ]
    }
   ],
   "source": [
    "#Read csv file to dataframe\n",
    "spark = SparkSession.builder.config(\"spark.sql.legacy.timeParserPolicy\", \"LEGACY\").getOrCreate()\n",
    "df = spark.read.csv(\"gs://6893proj/Motor_Vehicle_Collisions_-_Crashes.csv\", inferSchema=True, header=True)\n",
    "\n",
    "df.show(1)"
   ]
  },
  {
   "cell_type": "code",
   "execution_count": 3,
   "metadata": {
    "scrolled": false
   },
   "outputs": [
    {
     "name": "stdout",
     "output_type": "stream",
     "text": [
      "root\n",
      " |-- crash date: string (nullable = true)\n",
      " |-- crash time: string (nullable = true)\n",
      " |-- borough: string (nullable = true)\n",
      " |-- zip code: string (nullable = true)\n",
      " |-- latitude: double (nullable = true)\n",
      " |-- longitude: double (nullable = true)\n",
      " |-- location: string (nullable = true)\n",
      " |-- on street name: string (nullable = true)\n",
      " |-- cross street name: string (nullable = true)\n",
      " |-- off street name: string (nullable = true)\n",
      " |-- number of persons injured: string (nullable = true)\n",
      " |-- number of persons killed: integer (nullable = true)\n",
      " |-- number of pedestrians injured: integer (nullable = true)\n",
      " |-- number of pedestrians killed: integer (nullable = true)\n",
      " |-- number of cyclist injured: integer (nullable = true)\n",
      " |-- number of cyclist killed: string (nullable = true)\n",
      " |-- number of motorist injured: string (nullable = true)\n",
      " |-- number of motorist killed: integer (nullable = true)\n",
      " |-- contributing factor vehicle 1: string (nullable = true)\n",
      " |-- contributing factor vehicle 2: string (nullable = true)\n",
      " |-- contributing factor vehicle 3: string (nullable = true)\n",
      " |-- contributing factor vehicle 4: string (nullable = true)\n",
      " |-- contributing factor vehicle 5: string (nullable = true)\n",
      " |-- collision_id: integer (nullable = true)\n",
      " |-- vehicle type code 1: string (nullable = true)\n",
      " |-- vehicle type code 2: string (nullable = true)\n",
      " |-- vehicle type code 3: string (nullable = true)\n",
      " |-- vehicle type code 4: string (nullable = true)\n",
      " |-- vehicle type code 5: string (nullable = true)\n",
      "\n"
     ]
    }
   ],
   "source": [
    "for column in df.columns:\n",
    "    df = df.withColumnRenamed(column, column.lower())\n",
    "df.printSchema()"
   ]
  },
  {
   "cell_type": "code",
   "execution_count": 4,
   "metadata": {},
   "outputs": [
    {
     "name": "stderr",
     "output_type": "stream",
     "text": [
      "                                                                                \r"
     ]
    },
    {
     "name": "stdout",
     "output_type": "stream",
     "text": [
      "1945053\n"
     ]
    },
    {
     "name": "stderr",
     "output_type": "stream",
     "text": [
      "[Stage 6:==============>                                            (1 + 3) / 4]\r"
     ]
    },
    {
     "name": "stdout",
     "output_type": "stream",
     "text": [
      "1295010\n"
     ]
    },
    {
     "name": "stderr",
     "output_type": "stream",
     "text": [
      "\r",
      "                                                                                \r"
     ]
    }
   ],
   "source": [
    "# drop line with null values in some columns\n",
    "print(df.count())\n",
    "df = df.dropna(how='any', subset=[\"crash date\", \"crash time\", \"borough\", \"zip code\", \"latitude\", \"longitude\"\\\n",
    "                                      , \"contributing factor vehicle 1\", \"vehicle type code 1\"])\n",
    "df = df.dropna(thresh=1, subset=[\"on street name\", \"cross street name\", \"off street name\"])\n",
    "print(df.count())"
   ]
  },
  {
   "cell_type": "code",
   "execution_count": 5,
   "metadata": {},
   "outputs": [],
   "source": [
    "# deal with contributing factor 'Unspecified'\n",
    "#df.withColumn('contributing factor vehicle 1', when(col('contributing factor vehicle 1') == 'Unspecified', None)\\\n",
    "#                  .otherwise(col('contributing factor vehicle 1'))).show(2)"
   ]
  },
  {
   "cell_type": "code",
   "execution_count": 6,
   "metadata": {
    "scrolled": false
   },
   "outputs": [
    {
     "name": "stderr",
     "output_type": "stream",
     "text": [
      "\r",
      "[Stage 9:>                                                          (0 + 1) / 1]\r"
     ]
    },
    {
     "name": "stdout",
     "output_type": "stream",
     "text": [
      "+-------------------+-------------+\n",
      "|               date|    simp_date|\n",
      "+-------------------+-------------+\n",
      "|2021-09-11 09:35:00|2021-09-11 09|\n",
      "|2021-12-14 08:17:00|2021-12-14 08|\n",
      "|2021-12-14 21:10:00|2021-12-14 21|\n",
      "+-------------------+-------------+\n",
      "only showing top 3 rows\n",
      "\n"
     ]
    },
    {
     "name": "stderr",
     "output_type": "stream",
     "text": [
      "\r",
      "                                                                                \r"
     ]
    }
   ],
   "source": [
    "# modify time for joining with weather data\n",
    "df = df.withColumn(\"date\", concat_ws(\" \", col(\"crash date\"), col(\"crash time\")))\n",
    "df = df.withColumn(\"date\", to_timestamp(\"date\", 'MM/dd/yyyy HH:mm'))\n",
    "df = df.withColumn(\"simp_date\", date_format(\"date\", 'yyyy-MM-dd HH'))\n",
    "df = df.drop(\"crash date\", \"crash time\")\n",
    "df.select(\"date\", \"simp_date\").show(3)"
   ]
  },
  {
   "cell_type": "code",
   "execution_count": 7,
   "metadata": {},
   "outputs": [
    {
     "name": "stdout",
     "output_type": "stream",
     "text": [
      "+----------------+-------------------+------------------+---------+--------------+------------------+------------------+-------------------+--------------------+---------------------+\n",
      "|            time|temperature_2m (°C)|precipitation (mm)|rain (mm)|cloudcover (%)|cloudcover_low (%)|cloudcover_mid (%)|cloudcover_high (%)|windspeed_10m (km/h)|winddirection_10m (°)|\n",
      "+----------------+-------------------+------------------+---------+--------------+------------------+------------------+-------------------+--------------------+---------------------+\n",
      "|2016-01-01T00:00|                7.6|               0.0|      0.0|          69.0|              53.0|               0.0|               72.0|                10.0|                296.0|\n",
      "|2016-01-01T01:00|                7.5|               0.0|      0.0|          20.0|               4.0|               0.0|               56.0|                 9.8|                287.0|\n",
      "|2016-01-01T02:00|                7.1|               0.0|      0.0|          32.0|               3.0|               0.0|               99.0|                 9.7|                285.0|\n",
      "+----------------+-------------------+------------------+---------+--------------+------------------+------------------+-------------------+--------------------+---------------------+\n",
      "only showing top 3 rows\n",
      "\n",
      "root\n",
      " |-- time: string (nullable = true)\n",
      " |-- temperature_2m (°C): double (nullable = true)\n",
      " |-- precipitation (mm): double (nullable = true)\n",
      " |-- rain (mm): double (nullable = true)\n",
      " |-- cloudcover (%): double (nullable = true)\n",
      " |-- cloudcover_low (%): double (nullable = true)\n",
      " |-- cloudcover_mid (%): double (nullable = true)\n",
      " |-- cloudcover_high (%): double (nullable = true)\n",
      " |-- windspeed_10m (km/h): double (nullable = true)\n",
      " |-- winddirection_10m (°): double (nullable = true)\n",
      "\n"
     ]
    }
   ],
   "source": [
    "# import weather data\n",
    "w = spark.read.csv(\"gs://6893proj/NYC_Weather_2016_2022.csv\", inferSchema=True, header=True)\n",
    "w = w.dropna()\n",
    "w.show(3)\n",
    "w.printSchema()"
   ]
  },
  {
   "cell_type": "code",
   "execution_count": 8,
   "metadata": {},
   "outputs": [
    {
     "name": "stderr",
     "output_type": "stream",
     "text": [
      "\r",
      "[Stage 13:>                                                         (0 + 1) / 1]\r",
      "\r",
      "                                                                                \r"
     ]
    },
    {
     "name": "stdout",
     "output_type": "stream",
     "text": [
      "+-------------+\n",
      "|    simp_date|\n",
      "+-------------+\n",
      "|2016-01-01 00|\n",
      "|2016-01-01 01|\n",
      "|2016-01-01 02|\n",
      "+-------------+\n",
      "only showing top 3 rows\n",
      "\n"
     ]
    }
   ],
   "source": [
    "# change to timestamp\n",
    "w = w.withColumn(\"date\", to_timestamp(\"time\"))\n",
    "w = w.withColumn(\"simp_date\", date_format(\"date\", 'yyyy-MM-dd HH'))\n",
    "w = w.drop(\"date\")\n",
    "w.select(\"simp_date\").show(3)"
   ]
  },
  {
   "cell_type": "code",
   "execution_count": 9,
   "metadata": {},
   "outputs": [
    {
     "name": "stderr",
     "output_type": "stream",
     "text": [
      "                                                                                \r"
     ]
    },
    {
     "name": "stdout",
     "output_type": "stream",
     "text": [
      "+-------------+--------+--------+---------+---------+--------------------+--------------+-----------------+--------------------+-------------------------+------------------------+-----------------------------+----------------------------+-------------------------+------------------------+--------------------------+-------------------------+-----------------------------+-----------------------------+-----------------------------+-----------------------------+-----------------------------+------------+-------------------+-------------------+-------------------+-------------------+-------------------+-------------------+----------------+-------------------+------------------+---------+--------------+------------------+------------------+-------------------+--------------------+---------------------+\n",
      "|    simp_date| borough|zip code| latitude|longitude|            location|on street name|cross street name|     off street name|number of persons injured|number of persons killed|number of pedestrians injured|number of pedestrians killed|number of cyclist injured|number of cyclist killed|number of motorist injured|number of motorist killed|contributing factor vehicle 1|contributing factor vehicle 2|contributing factor vehicle 3|contributing factor vehicle 4|contributing factor vehicle 5|collision_id|vehicle type code 1|vehicle type code 2|vehicle type code 3|vehicle type code 4|vehicle type code 5|               date|            time|temperature_2m (°C)|precipitation (mm)|rain (mm)|cloudcover (%)|cloudcover_low (%)|cloudcover_mid (%)|cloudcover_high (%)|windspeed_10m (km/h)|winddirection_10m (°)|\n",
      "+-------------+--------+--------+---------+---------+--------------------+--------------+-----------------+--------------------+-------------------------+------------------------+-----------------------------+----------------------------+-------------------------+------------------------+--------------------------+-------------------------+-----------------------------+-----------------------------+-----------------------------+-----------------------------+-----------------------------+------------+-------------------+-------------------+-------------------+-------------------+-------------------+-------------------+----------------+-------------------+------------------+---------+--------------+------------------+------------------+-------------------+--------------------+---------------------+\n",
      "|2021-09-11 09|BROOKLYN|   11208|40.667202| -73.8665|(40.667202, -73.8...|          null|             null|1211      LORING ...|                        0|                       0|                            0|                           0|                        0|                       0|                         0|                        0|                  Unspecified|                         null|                         null|                         null|                         null|     4456314|              Sedan|               null|               null|               null|               null|2021-09-11 09:35:00|2021-09-11T09:00|               16.9|               0.0|      0.0|           0.0|               0.0|               0.0|                0.0|                 4.5|                284.0|\n",
      "|2021-12-14 08|   BRONX|   10475| 40.86816|-73.83148|(40.86816, -73.83...|          null|             null|344       BAYCHES...|                        2|                       0|                            0|                           0|                        0|                       0|                         2|                        0|                  Unspecified|                  Unspecified|                         null|                         null|                         null|     4486660|              Sedan|              Sedan|               null|               null|               null|2021-12-14 08:17:00|2021-12-14T08:00|                5.6|               0.0|      0.0|          11.0|               0.0|               0.0|               35.0|                12.9|                283.0|\n",
      "|2021-12-14 21|BROOKLYN|   11207| 40.67172| -73.8971|(40.67172, -73.8971)|          null|             null|2047      PITKIN ...|                        0|                       0|                            0|                           0|                        0|                       0|                         0|                        0|          Driver Inexperience|                  Unspecified|                         null|                         null|                         null|     4487074|              Sedan|               null|               null|               null|               null|2021-12-14 21:10:00|2021-12-14T21:00|               10.5|               0.0|      0.0|           0.0|               0.0|               0.0|                1.0|                 6.9|                  6.0|\n",
      "+-------------+--------+--------+---------+---------+--------------------+--------------+-----------------+--------------------+-------------------------+------------------------+-----------------------------+----------------------------+-------------------------+------------------------+--------------------------+-------------------------+-----------------------------+-----------------------------+-----------------------------+-----------------------------+-----------------------------+------------+-------------------+-------------------+-------------------+-------------------+-------------------+-------------------+----------------+-------------------+------------------+---------+--------------+------------------+------------------+-------------------+--------------------+---------------------+\n",
      "only showing top 3 rows\n",
      "\n"
     ]
    }
   ],
   "source": [
    "df_w = df.join(w, on='simp_date', how='inner')\n",
    "df_w.show(3)"
   ]
  },
  {
   "cell_type": "code",
   "execution_count": 11,
   "metadata": {},
   "outputs": [
    {
     "name": "stderr",
     "output_type": "stream",
     "text": [
      "                                                                                \r"
     ]
    }
   ],
   "source": [
    "output_directory = 'gs://6893proj/hadoop/tmp/pyspark_output/collision/collision_weather'\n",
    "df_w.coalesce(1).write.option(\"header\", \"true\").csv(output_directory)"
   ]
  },
  {
   "cell_type": "code",
   "execution_count": null,
   "metadata": {},
   "outputs": [],
   "source": [
    "# merge columns of contributing factor vehicle and vehicle type code\n",
    "'''df1 = df_w.withColumn(\"contributing factor\", concat_ws(\"  \", col(\"contributing factor vehicle 1\"), col(\"contributing factor vehicle 2\")\\\n",
    "                                               , col(\"contributing factor vehicle 3\"), col(\"contributing factor vehicle 4\")\\\n",
    "                                               , col(\"contributing factor vehicle 5\")))\\\n",
    "    .withColumn(\"contributing factor\", split(col(\"contributing factor\"), \"  \"))\n",
    "df1 = df1.drop(\"contributing factor vehicle 1\", \"contributing factor vehicle 2\", \"contributing factor vehicle 3\"\\\n",
    "             , \"contributing factor vehicle 4\", \"contributing factor vehicle 5\")\n",
    "\n",
    "df1 = df1.withColumn(\"vehicle type code\", concat_ws(\"  \", col(\"vehicle type code 1\"), col(\"vehicle type code 2\"), col(\"vehicle type code 3\")\\\n",
    "                                                  , col(\"vehicle type code 4\"), col(\"vehicle type code 5\")))\\\n",
    "    .withColumn(\"vehicle type code\", split(col(\"vehicle type code\"), \"  \"))\n",
    "df1 = df1.drop(\"vehicle type code 1\", \"vehicle type code 2\", \"vehicle type code 3\", \"vehicle type code 4\", \"vehicle type code 5\")\n",
    "\n",
    "df1.select(\"contributing factor\", \"vehicle type code\").show(3)'''"
   ]
  },
  {
   "cell_type": "code",
   "execution_count": null,
   "metadata": {},
   "outputs": [],
   "source": [
    "'''output_directory = 'gs://6893proj/hadoop/tmp/pyspark_output/collision/collision_weather.csv'\n",
    "df1.coalesce(1).write.option(\"header\", \"true\").json(output_directory)'''"
   ]
  },
  {
   "cell_type": "code",
   "execution_count": null,
   "metadata": {},
   "outputs": [],
   "source": []
  }
 ],
 "metadata": {
  "colab": {
   "collapsed_sections": [],
   "name": "6893_HW2PartI_LogisticRegression.ipynb",
   "provenance": []
  },
  "kernelspec": {
   "display_name": "Python 3",
   "language": "python",
   "name": "python3"
  },
  "language_info": {
   "codemirror_mode": {
    "name": "ipython",
    "version": 3
   },
   "file_extension": ".py",
   "mimetype": "text/x-python",
   "name": "python",
   "nbconvert_exporter": "python",
   "pygments_lexer": "ipython3",
   "version": "3.8.13"
  },
  "vscode": {
   "interpreter": {
    "hash": "392010c38aa256f8ef4d9c59c70a6e717fa0dbd0a4b3da38418b67ac8eb81966"
   }
  }
 },
 "nbformat": 4,
 "nbformat_minor": 1
}